{
  "cells": [
    {
      "cell_type": "markdown",
      "metadata": {
        "id": "gU-ziRYniJIp"
      },
      "source": [
        "Web scrapping using selenium"
      ]
    },
    {
      "cell_type": "code",
      "execution_count": 1,
      "metadata": {},
      "outputs": [
        {
          "name": "stderr",
          "output_type": "stream",
          "text": [
            "C:\\Users\\sanka\\AppData\\Local\\Temp\\ipykernel_10896\\4080736814.py:1: DeprecationWarning: \n",
            "Pyarrow will become a required dependency of pandas in the next major release of pandas (pandas 3.0),\n",
            "(to allow more performant data types, such as the Arrow string type, and better interoperability with other libraries)\n",
            "but was not found to be installed on your system.\n",
            "If this would cause problems for you,\n",
            "please provide us feedback at https://github.com/pandas-dev/pandas/issues/54466\n",
            "        \n",
            "  import pandas as pd\n"
          ]
        }
      ],
      "source": [
        "import pandas as pd"
      ]
    },
    {
      "cell_type": "code",
      "execution_count": 2,
      "metadata": {
        "id": "MCOW_4LOizh9"
      },
      "outputs": [],
      "source": [
        "from selenium import webdriver\n",
        "from time import sleep\n",
        "from selenium.webdriver.chrome.options import Options\n",
        "from webdriver_manager.chrome import ChromeDriverManager\n",
        "from selenium.webdriver.common.by import By\n",
        "from selenium.webdriver.common.keys import Keys"
      ]
    },
    {
      "cell_type": "code",
      "execution_count": 3,
      "metadata": {
        "colab": {
          "base_uri": "https://localhost:8080/",
          "height": 634
        },
        "id": "bJygzzEwlZib",
        "outputId": "5d32c45a-68fe-4b0d-f572-4963d8a5efb8"
      },
      "outputs": [],
      "source": [
        "#define options and set browser capabilities\n",
        "\n",
        "options = webdriver.ChromeOptions()\n",
        "options.add_argument('--some-option')\n",
        "\n",
        "#Create WebDriver instance with options\n",
        "driver =webdriver.Chrome(options=options)\n",
        "driver.get('https://www.amazon.in')"
      ]
    },
    {
      "cell_type": "code",
      "execution_count": 4,
      "metadata": {},
      "outputs": [],
      "source": [
        "search=driver.find_element(By.ID,\"twotabsearchtextbox\")\n",
        "search.send_keys(\"Dell laptops\")\n",
        "driver.find_element(By.ID,\"nav-search-submit-button\").click()\n"
      ]
    },
    {
      "cell_type": "code",
      "execution_count": 5,
      "metadata": {},
      "outputs": [
        {
          "name": "stdout",
          "output_type": "stream",
          "text": [
            "22\n"
          ]
        }
      ],
      "source": [
        "names=driver.find_elements(By.XPATH,\".//span[@class='a-size-medium a-color-base a-text-normal']\")\n",
        "laptop_names = [i.text for i in names]\n",
        "print(len(laptop_names))\n",
        "\n"
      ]
    },
    {
      "cell_type": "code",
      "execution_count": 6,
      "metadata": {},
      "outputs": [
        {
          "name": "stdout",
          "output_type": "stream",
          "text": [
            "33\n",
            "['32,990', '41,989', '54,990', '47,990', '49,990', '36,490', '35,990', '34,990', '35,990', '44,990', '43,990', '54,900', '23,619', '94,990', '64,990', '47,990', '49,990', '67,450', '75,990', '33,990', '46,990', '44,990', '57,990', '72,990', '37,990', '32,990', '', '', '25,990.', '37,990', '', '22,890', '57,390']\n"
          ]
        }
      ],
      "source": [
        "prices=driver.find_elements(By.XPATH,\".//span[@class='a-price-whole']\")\n",
        "laptop_prices = [i.text for i in  prices] \n",
        "print(len(laptop_prices))\n",
        "print(laptop_prices)\n",
        "\n"
      ]
    },
    {
      "cell_type": "code",
      "execution_count": 7,
      "metadata": {},
      "outputs": [
        {
          "name": "stdout",
          "output_type": "stream",
          "text": [
            "27\n"
          ]
        }
      ],
      "source": [
        "\n",
        "reviews=driver.find_elements(By.XPATH,\".//span[@class='a-size-base s-underline-text']\")\n",
        "l_rev= [i.text for i in reviews]\n",
        "print(len(l_rev))\n",
        "\n"
      ]
    },
    {
      "cell_type": "code",
      "execution_count": 8,
      "metadata": {},
      "outputs": [
        {
          "name": "stdout",
          "output_type": "stream",
          "text": [
            "['Dell 15 Laptop, Intel Core i5-1135G7 Processor/16GB DDR4/512GB SSD/Intel UHD Graphic/15.6\" (39.562cm) FHD Display/Win 11+MSO\\'21/15 Month McAfee/Spill-Resistant Keyboard/Carbon/Thin & Light 1.69kg', 'Dell 14 Laptop, 12th Gen Intel Core i5-1235U Processor, 16GB, 512GB, 14.0\" (35.56cm) FHD Display, Windows 11 + MSO\\'21, Spill-Resistant Keyboard, 15 Month Mcafee, Black, Thin & Light- 1.48kg', 'Dell 15 Laptop, Intel 12th Gen Core i3-1215U Proc/8GB DDR4/512GB SSD/Intel UHD Graphic/15.6\" (38cm) FHD Display/Spill-Resistant Keyboard/Win11+MSO\\'21/15 Month McAfee/Black/Thin & Light 1.69kg', 'Dell 14 Laptop, 12th Gen Intel Core i3-1215U Processor/8GB/512GB SSD/Intel UHD Graphics/14.0\"(35.56cm) FHD/Windows 11 + MSO\\'21/15 Month McAfee/Spill-Resistant Keyboard/Grey/Thin & Light 1.48kg', 'Dell 15 Laptop, Intel Core i3-1115G4, 8GB/1TB + 256GB SSD/15.6\" (39.62cm) FHD with Comfort View/Mobile Connect/Windows 11 + MSO\\'21/15 Month McAfee/Spill-Resistant Keyboard/Carbon/Thin & Light-1.69kg', 'Dell 14 Laptop, AMD Ryzen R5-5500U/ 8GB DDR4, 2400 MHz/ 512GB/ 14.0\" (35.56cm) FHD Display with Comfort View/Windows 11 + MSO\\'21/15 Month McAfee/Spill-Resistant Keyboard/Carbon Black/ 1.48kg', 'Dell 15 Laptop, Intel Core i5-1135G7 Processor/ 8GB/ 1TB+256GB SSD/15.6\"(39.62cm) FHD Display/Mobile Connect/Windows 11 + MSO\\'21/15 Month McAfee/Spill-Resistant Keyboard/Black/Thin & Light 1.69kg', 'Dell 15 Laptop, Intel Core i5-1135G7 Processor/ 8GB DDR4/ 512GB SSD/ 15.6\" (39.62cm) FHD/Mobile Connect/Windows 11 + MSO\\'21/15 Month McAfee/Spill-Resistant Keyboard/Carbon Black/Thin & Light-1.69kg', 'Dell Inspiron 3520 Laptop, Intel Core i5-1235U Processor, 16GB,512GB,15.6\" (39.62cm) FHD Display, Backlit Keyboard, Win 11 + MSO\\'21,15 Month McAfee, Silver, Thin & Light-1.65kg', '(Renewed) DELL Latitude 5490 Core i5 8th Gen Laptop, 16 GB RAM, 512GB SSD, Intel HD Graphics, 14 inch (36.83 cms) HD Screen, Windows 11 (Upgraded), MS Office, Black, Slim', 'ASUS Vivobook 16 (2023), Intel Core i9-13900H 13th Gen, 16\" (40.64 cm) FHD+, Thin & Light Laptop (16GB/512GB SSD/Intel Iris Xe/Win 11/Office 2021/Backlit KB/Fingerprint/Silver/1.88 kg) X1605VA-MB946WS', 'ASUS Vivobook 15, Intel Core i7-12650H 12th Gen, 15.6\" (39.62 cm) FHD, Thin and Light Laptop (16GB/512GB/Win11/Office 2021/Blue/1.7 kg), X1502ZA-EJ741WS', 'Dell 15 Laptop, Intel Core i5-1135G7 Processor/16GB DDR4/512GB SSD/Intel UHD Graphic/15.6\" (39.562cm) FHD Display/Win 11+MSO\\'21/15 Month McAfee/Spill-Resistant Keyboard/Carbon/Thin & Light 1.69kg', 'Dell 14 Laptop, 12th Gen Intel Core i5-1235U Processor, 16GB, 512GB, 14.0\" (35.56cm) FHD Display, Windows 11 + MSO\\'21, Spill-Resistant Keyboard, 15 Month Mcafee, Black, Thin & Light- 1.48kg', 'Dell Inspiron 3530 Laptop, 13th Gen Intel Core i5-1335U Processor/16GB/1TB SSD/15.6\" (39.62cm) FHD Display/Backlit Keyboard/Platinum Silver/Win 11 + MSO\\'21/15 Month McAfee/Thin & Light- 1.66kg', 'Dell G15 5520 Gaming Laptop, Intel i5-12500H/16GB DDR5/1TB SSD/15.6\" (39.62cm) FHD WVA AG 120Hz 250 nits/NVIDIA RTX 3050, 4 GB GDDR6/Win 11 + MSO\\'21/15 Months McAfee/Backlit KB/Dark Shadow Grey/2.81kg', 'Dell 15 Laptop, Intel Core i3-1115G4 Processor/8GB DDR4/512GB SSD/Intel UHD Graphics/15.6\" (39.6cm) FHD 120Hz Refresh, 250 nits/Mobile Connect/Win 11+MSO\\'21/15 Month McAfee/Black/Thin & Light-1.66kg', 'Dell 14, Intel 12th Gen i5-1235U Laptop/8GB/512GB SSD/14.0\" (35.56cm) FHD TÃœV Rheinland Certified Comfortview to Reduce Harmful Blue Light Emission/Windows 11 + MSO\\'21/Black/15 Month McAfee,1.48kg', 'Dell 14 Laptop, Intel Core i5-1135G7 Processor/8GB/512GB/Intel UHD Graphic/14.0\" (35.6cm) FHD with Comfort View/Spill-Resistant Keyboard/Thin & Light 1.48kg/ Win 11+ MSO\\'21/15 Month McAfee/Titan Grey', 'Dell Inspiron 7430 2in1 Touch Laptop, 13th Gen Intel Core i3-1315U/8GB/1TB SSD/14.0\" (35.56cm) FHD+,16:10 Aspect Ratio/Backlit KB+FPR/Win 11+MSO\\'21/15 Months McAfee/Platinum Silver/Thin & Light-1.58kg', 'ASUS VivoBook 15 (2021), 15.6-inch (39.62 cm) HD, Dual Core Intel Celeron N4020, Thin and Light Laptop (4GB RAM/256GB SSD/Integrated Graphics/Windows 11 Home/Transparent Silver/1.8 Kg), X515MA-BR011W', 'ASUS Vivobook 16X (2022), AMD Ryzen 7 5800Hs, 16\" (40.64 Cms) Fhd+, Thin and Laptop (HDMI/16Gb/512Gb Ssd/Windows 11/Office 2021/Alexa Built-in/Backlit Kb/Fp Sensor/Silver/1.88 Kg), M1603Qa-Mb712Ws']\n",
            "['32,990', '41,989', '54,990', '47,990', '49,990', '36,490', '35,990', '34,990', '35,990', '44,990', '43,990', '54,900', '23,619', '94,990', '64,990', '47,990', '49,990', '67,450', '75,990', '33,990', '46,990', '44,990', '57,990', '72,990', '37,990', '32,990', '', '', '25,990.', '37,990', '', '22,890', '57,390']\n"
          ]
        }
      ],
      "source": [
        "print(laptop_names)\n",
        "print(laptop_prices)\n"
      ]
    },
    {
      "cell_type": "code",
      "execution_count": 9,
      "metadata": {},
      "outputs": [
        {
          "name": "stdout",
          "output_type": "stream",
          "text": [
            "Dell 15 Laptop, Intel Core i5-1135G7 Processor/16GB DDR4/512GB SSD/Intel UHD Graphic/15.6\" (39.562cm) FHD Display/Win 11+MSO'21/15 Month McAfee/Spill-Resistant Keyboard/Carbon/Thin & Light 1.69kg\n",
            "32,990\n"
          ]
        }
      ],
      "source": [
        "print(laptop_names[0])\n",
        "print(laptop_prices[0])\n"
      ]
    },
    {
      "cell_type": "code",
      "execution_count": 10,
      "metadata": {},
      "outputs": [
        {
          "name": "stdout",
          "output_type": "stream",
          "text": [
            "['Dell 15 Laptop, Intel Core i5-1135G7 Processor/16GB DDR4/512GB SSD/Intel UHD Graphic/15.6\" (39.562cm) FHD Display/Win 11+MSO\\'21/15 Month McAfee/Spill-Resistant Keyboard/Carbon/Thin & Light 1.69kg', 'Dell 14 Laptop, 12th Gen Intel Core i5-1235U Processor, 16GB, 512GB, 14.0\" (35.56cm) FHD Display, Windows 11 + MSO\\'21, Spill-Resistant Keyboard, 15 Month Mcafee, Black, Thin & Light- 1.48kg', 'Dell 15 Laptop, Intel 12th Gen Core i3-1215U Proc/8GB DDR4/512GB SSD/Intel UHD Graphic/15.6\" (38cm) FHD Display/Spill-Resistant Keyboard/Win11+MSO\\'21/15 Month McAfee/Black/Thin & Light 1.69kg', 'Dell 14 Laptop, 12th Gen Intel Core i3-1215U Processor/8GB/512GB SSD/Intel UHD Graphics/14.0\"(35.56cm) FHD/Windows 11 + MSO\\'21/15 Month McAfee/Spill-Resistant Keyboard/Grey/Thin & Light 1.48kg', 'Dell 15 Laptop, Intel Core i3-1115G4, 8GB/1TB + 256GB SSD/15.6\" (39.62cm) FHD with Comfort View/Mobile Connect/Windows 11 + MSO\\'21/15 Month McAfee/Spill-Resistant Keyboard/Carbon/Thin & Light-1.69kg', 'Dell 14 Laptop, AMD Ryzen R5-5500U/ 8GB DDR4, 2400 MHz/ 512GB/ 14.0\" (35.56cm) FHD Display with Comfort View/Windows 11 + MSO\\'21/15 Month McAfee/Spill-Resistant Keyboard/Carbon Black/ 1.48kg', 'Dell 15 Laptop, Intel Core i5-1135G7 Processor/ 8GB/ 1TB+256GB SSD/15.6\"(39.62cm) FHD Display/Mobile Connect/Windows 11 + MSO\\'21/15 Month McAfee/Spill-Resistant Keyboard/Black/Thin & Light 1.69kg', 'Dell 15 Laptop, Intel Core i5-1135G7 Processor/ 8GB DDR4/ 512GB SSD/ 15.6\" (39.62cm) FHD/Mobile Connect/Windows 11 + MSO\\'21/15 Month McAfee/Spill-Resistant Keyboard/Carbon Black/Thin & Light-1.69kg']\n",
            "['32,990', '41,989', '54,990', '47,990', '49,990', '36,490', '35,990', '34,990']\n"
          ]
        }
      ],
      "source": [
        "print(laptop_names[0:8])\n",
        "print(laptop_prices[0:8])\n"
      ]
    },
    {
      "cell_type": "code",
      "execution_count": 11,
      "metadata": {},
      "outputs": [
        {
          "name": "stdout",
          "output_type": "stream",
          "text": [
            "Dell Inspiron 7430 2in1 Touch Laptop, 13th Gen Intel Core i3-1315U/8GB/1TB SSD/14.0\" (35.56cm) FHD+,16:10 Aspect Ratio/Backlit KB+FPR/Win 11+MSO'21/15 Months McAfee/Platinum Silver/Thin & Light-1.58kg\n",
            "33,990\n",
            "179\n"
          ]
        }
      ],
      "source": [
        "print(laptop_names[19])\n",
        "print(laptop_prices[19])\n",
        "print(l_rev[19])\n",
        "\n"
      ]
    },
    {
      "cell_type": "code",
      "execution_count": 12,
      "metadata": {},
      "outputs": [
        {
          "name": "stdout",
          "output_type": "stream",
          "text": [
            "Empty DataFrame\n",
            "Columns: [Laptop_names, Prices, Reviews]\n",
            "Index: []\n"
          ]
        }
      ],
      "source": [
        "df = pd.DataFrame(columns=['Laptop_names','Prices','Reviews'])\n",
        "print(df)"
      ]
    },
    {
      "cell_type": "code",
      "execution_count": 13,
      "metadata": {},
      "outputs": [],
      "source": [
        "df['Laptop_names']=laptop_names[0:19]\n",
        "df['Prices']=laptop_prices[0:19]\n",
        "df['Reviews']=l_rev[0:19]"
      ]
    },
    {
      "cell_type": "code",
      "execution_count": 14,
      "metadata": {},
      "outputs": [
        {
          "data": {
            "text/html": [
              "<div>\n",
              "<style scoped>\n",
              "    .dataframe tbody tr th:only-of-type {\n",
              "        vertical-align: middle;\n",
              "    }\n",
              "\n",
              "    .dataframe tbody tr th {\n",
              "        vertical-align: top;\n",
              "    }\n",
              "\n",
              "    .dataframe thead th {\n",
              "        text-align: right;\n",
              "    }\n",
              "</style>\n",
              "<table border=\"1\" class=\"dataframe\">\n",
              "  <thead>\n",
              "    <tr style=\"text-align: right;\">\n",
              "      <th></th>\n",
              "      <th>Laptop_names</th>\n",
              "      <th>Prices</th>\n",
              "      <th>Reviews</th>\n",
              "    </tr>\n",
              "  </thead>\n",
              "  <tbody>\n",
              "    <tr>\n",
              "      <th>0</th>\n",
              "      <td>Dell 15 Laptop, Intel Core i5-1135G7 Processor...</td>\n",
              "      <td>32,990</td>\n",
              "      <td>619</td>\n",
              "    </tr>\n",
              "    <tr>\n",
              "      <th>1</th>\n",
              "      <td>Dell 14 Laptop, 12th Gen Intel Core i5-1235U P...</td>\n",
              "      <td>41,989</td>\n",
              "      <td>76</td>\n",
              "    </tr>\n",
              "    <tr>\n",
              "      <th>2</th>\n",
              "      <td>Dell 15 Laptop, Intel 12th Gen Core i3-1215U P...</td>\n",
              "      <td>54,990</td>\n",
              "      <td>241</td>\n",
              "    </tr>\n",
              "    <tr>\n",
              "      <th>3</th>\n",
              "      <td>Dell 14 Laptop, 12th Gen Intel Core i3-1215U P...</td>\n",
              "      <td>47,990</td>\n",
              "      <td>241</td>\n",
              "    </tr>\n",
              "    <tr>\n",
              "      <th>4</th>\n",
              "      <td>Dell 15 Laptop, Intel Core i3-1115G4, 8GB/1TB ...</td>\n",
              "      <td>49,990</td>\n",
              "      <td>637</td>\n",
              "    </tr>\n",
              "    <tr>\n",
              "      <th>5</th>\n",
              "      <td>Dell 14 Laptop, AMD Ryzen R5-5500U/ 8GB DDR4, ...</td>\n",
              "      <td>36,490</td>\n",
              "      <td>4</td>\n",
              "    </tr>\n",
              "    <tr>\n",
              "      <th>6</th>\n",
              "      <td>Dell 15 Laptop, Intel Core i5-1135G7 Processor...</td>\n",
              "      <td>35,990</td>\n",
              "      <td>619</td>\n",
              "    </tr>\n",
              "    <tr>\n",
              "      <th>7</th>\n",
              "      <td>Dell 15 Laptop, Intel Core i5-1135G7 Processor...</td>\n",
              "      <td>34,990</td>\n",
              "      <td>619</td>\n",
              "    </tr>\n",
              "    <tr>\n",
              "      <th>8</th>\n",
              "      <td>Dell Inspiron 3520 Laptop, Intel Core i5-1235U...</td>\n",
              "      <td>35,990</td>\n",
              "      <td>2</td>\n",
              "    </tr>\n",
              "    <tr>\n",
              "      <th>9</th>\n",
              "      <td>(Renewed) DELL Latitude 5490 Core i5 8th Gen L...</td>\n",
              "      <td>44,990</td>\n",
              "      <td>508</td>\n",
              "    </tr>\n",
              "    <tr>\n",
              "      <th>10</th>\n",
              "      <td>ASUS Vivobook 16 (2023), Intel Core i9-13900H ...</td>\n",
              "      <td>43,990</td>\n",
              "      <td>115</td>\n",
              "    </tr>\n",
              "    <tr>\n",
              "      <th>11</th>\n",
              "      <td>ASUS Vivobook 15, Intel Core i7-12650H 12th Ge...</td>\n",
              "      <td>54,900</td>\n",
              "      <td>436</td>\n",
              "    </tr>\n",
              "    <tr>\n",
              "      <th>12</th>\n",
              "      <td>Dell 15 Laptop, Intel Core i5-1135G7 Processor...</td>\n",
              "      <td>23,619</td>\n",
              "      <td>619</td>\n",
              "    </tr>\n",
              "    <tr>\n",
              "      <th>13</th>\n",
              "      <td>Dell 14 Laptop, 12th Gen Intel Core i5-1235U P...</td>\n",
              "      <td>94,990</td>\n",
              "      <td>76</td>\n",
              "    </tr>\n",
              "    <tr>\n",
              "      <th>14</th>\n",
              "      <td>Dell Inspiron 3530 Laptop, 13th Gen Intel Core...</td>\n",
              "      <td>64,990</td>\n",
              "      <td>14</td>\n",
              "    </tr>\n",
              "    <tr>\n",
              "      <th>15</th>\n",
              "      <td>Dell G15 5520 Gaming Laptop, Intel i5-12500H/1...</td>\n",
              "      <td>47,990</td>\n",
              "      <td>519</td>\n",
              "    </tr>\n",
              "    <tr>\n",
              "      <th>16</th>\n",
              "      <td>Dell 15 Laptop, Intel Core i3-1115G4 Processor...</td>\n",
              "      <td>49,990</td>\n",
              "      <td>637</td>\n",
              "    </tr>\n",
              "    <tr>\n",
              "      <th>17</th>\n",
              "      <td>Dell 14, Intel 12th Gen i5-1235U Laptop/8GB/51...</td>\n",
              "      <td>67,450</td>\n",
              "      <td>140</td>\n",
              "    </tr>\n",
              "    <tr>\n",
              "      <th>18</th>\n",
              "      <td>Dell 14 Laptop, Intel Core i5-1135G7 Processor...</td>\n",
              "      <td>75,990</td>\n",
              "      <td>3</td>\n",
              "    </tr>\n",
              "  </tbody>\n",
              "</table>\n",
              "</div>"
            ],
            "text/plain": [
              "                                         Laptop_names  Prices Reviews\n",
              "0   Dell 15 Laptop, Intel Core i5-1135G7 Processor...  32,990     619\n",
              "1   Dell 14 Laptop, 12th Gen Intel Core i5-1235U P...  41,989      76\n",
              "2   Dell 15 Laptop, Intel 12th Gen Core i3-1215U P...  54,990     241\n",
              "3   Dell 14 Laptop, 12th Gen Intel Core i3-1215U P...  47,990     241\n",
              "4   Dell 15 Laptop, Intel Core i3-1115G4, 8GB/1TB ...  49,990     637\n",
              "5   Dell 14 Laptop, AMD Ryzen R5-5500U/ 8GB DDR4, ...  36,490       4\n",
              "6   Dell 15 Laptop, Intel Core i5-1135G7 Processor...  35,990     619\n",
              "7   Dell 15 Laptop, Intel Core i5-1135G7 Processor...  34,990     619\n",
              "8   Dell Inspiron 3520 Laptop, Intel Core i5-1235U...  35,990       2\n",
              "9   (Renewed) DELL Latitude 5490 Core i5 8th Gen L...  44,990     508\n",
              "10  ASUS Vivobook 16 (2023), Intel Core i9-13900H ...  43,990     115\n",
              "11  ASUS Vivobook 15, Intel Core i7-12650H 12th Ge...  54,900     436\n",
              "12  Dell 15 Laptop, Intel Core i5-1135G7 Processor...  23,619     619\n",
              "13  Dell 14 Laptop, 12th Gen Intel Core i5-1235U P...  94,990      76\n",
              "14  Dell Inspiron 3530 Laptop, 13th Gen Intel Core...  64,990      14\n",
              "15  Dell G15 5520 Gaming Laptop, Intel i5-12500H/1...  47,990     519\n",
              "16  Dell 15 Laptop, Intel Core i3-1115G4 Processor...  49,990     637\n",
              "17  Dell 14, Intel 12th Gen i5-1235U Laptop/8GB/51...  67,450     140\n",
              "18  Dell 14 Laptop, Intel Core i5-1135G7 Processor...  75,990       3"
            ]
          },
          "execution_count": 14,
          "metadata": {},
          "output_type": "execute_result"
        }
      ],
      "source": [
        "df"
      ]
    },
    {
      "cell_type": "code",
      "execution_count": 15,
      "metadata": {},
      "outputs": [],
      "source": [
        "df.to_csv(\"webscrapping_selenium.csv\")"
      ]
    },
    {
      "cell_type": "code",
      "execution_count": 16,
      "metadata": {},
      "outputs": [
        {
          "data": {
            "text/html": [
              "<div>\n",
              "<style scoped>\n",
              "    .dataframe tbody tr th:only-of-type {\n",
              "        vertical-align: middle;\n",
              "    }\n",
              "\n",
              "    .dataframe tbody tr th {\n",
              "        vertical-align: top;\n",
              "    }\n",
              "\n",
              "    .dataframe thead th {\n",
              "        text-align: right;\n",
              "    }\n",
              "</style>\n",
              "<table border=\"1\" class=\"dataframe\">\n",
              "  <thead>\n",
              "    <tr style=\"text-align: right;\">\n",
              "      <th></th>\n",
              "      <th>Unnamed: 0</th>\n",
              "      <th>Laptop_names</th>\n",
              "      <th>Prices</th>\n",
              "      <th>Reviews</th>\n",
              "    </tr>\n",
              "  </thead>\n",
              "  <tbody>\n",
              "    <tr>\n",
              "      <th>0</th>\n",
              "      <td>0</td>\n",
              "      <td>Dell 15 Laptop, Intel Core i5-1135G7 Processor...</td>\n",
              "      <td>32,990</td>\n",
              "      <td>619</td>\n",
              "    </tr>\n",
              "    <tr>\n",
              "      <th>1</th>\n",
              "      <td>1</td>\n",
              "      <td>Dell 14 Laptop, 12th Gen Intel Core i5-1235U P...</td>\n",
              "      <td>41,989</td>\n",
              "      <td>76</td>\n",
              "    </tr>\n",
              "    <tr>\n",
              "      <th>2</th>\n",
              "      <td>2</td>\n",
              "      <td>Dell 15 Laptop, Intel 12th Gen Core i3-1215U P...</td>\n",
              "      <td>54,990</td>\n",
              "      <td>241</td>\n",
              "    </tr>\n",
              "    <tr>\n",
              "      <th>3</th>\n",
              "      <td>3</td>\n",
              "      <td>Dell 14 Laptop, 12th Gen Intel Core i3-1215U P...</td>\n",
              "      <td>47,990</td>\n",
              "      <td>241</td>\n",
              "    </tr>\n",
              "    <tr>\n",
              "      <th>4</th>\n",
              "      <td>4</td>\n",
              "      <td>Dell 15 Laptop, Intel Core i3-1115G4, 8GB/1TB ...</td>\n",
              "      <td>49,990</td>\n",
              "      <td>637</td>\n",
              "    </tr>\n",
              "    <tr>\n",
              "      <th>5</th>\n",
              "      <td>5</td>\n",
              "      <td>Dell 14 Laptop, AMD Ryzen R5-5500U/ 8GB DDR4, ...</td>\n",
              "      <td>36,490</td>\n",
              "      <td>4</td>\n",
              "    </tr>\n",
              "    <tr>\n",
              "      <th>6</th>\n",
              "      <td>6</td>\n",
              "      <td>Dell 15 Laptop, Intel Core i5-1135G7 Processor...</td>\n",
              "      <td>35,990</td>\n",
              "      <td>619</td>\n",
              "    </tr>\n",
              "    <tr>\n",
              "      <th>7</th>\n",
              "      <td>7</td>\n",
              "      <td>Dell 15 Laptop, Intel Core i5-1135G7 Processor...</td>\n",
              "      <td>34,990</td>\n",
              "      <td>619</td>\n",
              "    </tr>\n",
              "    <tr>\n",
              "      <th>8</th>\n",
              "      <td>8</td>\n",
              "      <td>Dell Inspiron 3520 Laptop, Intel Core i5-1235U...</td>\n",
              "      <td>35,990</td>\n",
              "      <td>2</td>\n",
              "    </tr>\n",
              "    <tr>\n",
              "      <th>9</th>\n",
              "      <td>9</td>\n",
              "      <td>(Renewed) DELL Latitude 5490 Core i5 8th Gen L...</td>\n",
              "      <td>44,990</td>\n",
              "      <td>508</td>\n",
              "    </tr>\n",
              "    <tr>\n",
              "      <th>10</th>\n",
              "      <td>10</td>\n",
              "      <td>ASUS Vivobook 16 (2023), Intel Core i9-13900H ...</td>\n",
              "      <td>43,990</td>\n",
              "      <td>115</td>\n",
              "    </tr>\n",
              "    <tr>\n",
              "      <th>11</th>\n",
              "      <td>11</td>\n",
              "      <td>ASUS Vivobook 15, Intel Core i7-12650H 12th Ge...</td>\n",
              "      <td>54,900</td>\n",
              "      <td>436</td>\n",
              "    </tr>\n",
              "    <tr>\n",
              "      <th>12</th>\n",
              "      <td>12</td>\n",
              "      <td>Dell 15 Laptop, Intel Core i5-1135G7 Processor...</td>\n",
              "      <td>23,619</td>\n",
              "      <td>619</td>\n",
              "    </tr>\n",
              "    <tr>\n",
              "      <th>13</th>\n",
              "      <td>13</td>\n",
              "      <td>Dell 14 Laptop, 12th Gen Intel Core i5-1235U P...</td>\n",
              "      <td>94,990</td>\n",
              "      <td>76</td>\n",
              "    </tr>\n",
              "    <tr>\n",
              "      <th>14</th>\n",
              "      <td>14</td>\n",
              "      <td>Dell Inspiron 3530 Laptop, 13th Gen Intel Core...</td>\n",
              "      <td>64,990</td>\n",
              "      <td>14</td>\n",
              "    </tr>\n",
              "    <tr>\n",
              "      <th>15</th>\n",
              "      <td>15</td>\n",
              "      <td>Dell G15 5520 Gaming Laptop, Intel i5-12500H/1...</td>\n",
              "      <td>47,990</td>\n",
              "      <td>519</td>\n",
              "    </tr>\n",
              "    <tr>\n",
              "      <th>16</th>\n",
              "      <td>16</td>\n",
              "      <td>Dell 15 Laptop, Intel Core i3-1115G4 Processor...</td>\n",
              "      <td>49,990</td>\n",
              "      <td>637</td>\n",
              "    </tr>\n",
              "    <tr>\n",
              "      <th>17</th>\n",
              "      <td>17</td>\n",
              "      <td>Dell 14, Intel 12th Gen i5-1235U Laptop/8GB/51...</td>\n",
              "      <td>67,450</td>\n",
              "      <td>140</td>\n",
              "    </tr>\n",
              "    <tr>\n",
              "      <th>18</th>\n",
              "      <td>18</td>\n",
              "      <td>Dell 14 Laptop, Intel Core i5-1135G7 Processor...</td>\n",
              "      <td>75,990</td>\n",
              "      <td>3</td>\n",
              "    </tr>\n",
              "  </tbody>\n",
              "</table>\n",
              "</div>"
            ],
            "text/plain": [
              "    Unnamed: 0                                       Laptop_names  Prices  \\\n",
              "0            0  Dell 15 Laptop, Intel Core i5-1135G7 Processor...  32,990   \n",
              "1            1  Dell 14 Laptop, 12th Gen Intel Core i5-1235U P...  41,989   \n",
              "2            2  Dell 15 Laptop, Intel 12th Gen Core i3-1215U P...  54,990   \n",
              "3            3  Dell 14 Laptop, 12th Gen Intel Core i3-1215U P...  47,990   \n",
              "4            4  Dell 15 Laptop, Intel Core i3-1115G4, 8GB/1TB ...  49,990   \n",
              "5            5  Dell 14 Laptop, AMD Ryzen R5-5500U/ 8GB DDR4, ...  36,490   \n",
              "6            6  Dell 15 Laptop, Intel Core i5-1135G7 Processor...  35,990   \n",
              "7            7  Dell 15 Laptop, Intel Core i5-1135G7 Processor...  34,990   \n",
              "8            8  Dell Inspiron 3520 Laptop, Intel Core i5-1235U...  35,990   \n",
              "9            9  (Renewed) DELL Latitude 5490 Core i5 8th Gen L...  44,990   \n",
              "10          10  ASUS Vivobook 16 (2023), Intel Core i9-13900H ...  43,990   \n",
              "11          11  ASUS Vivobook 15, Intel Core i7-12650H 12th Ge...  54,900   \n",
              "12          12  Dell 15 Laptop, Intel Core i5-1135G7 Processor...  23,619   \n",
              "13          13  Dell 14 Laptop, 12th Gen Intel Core i5-1235U P...  94,990   \n",
              "14          14  Dell Inspiron 3530 Laptop, 13th Gen Intel Core...  64,990   \n",
              "15          15  Dell G15 5520 Gaming Laptop, Intel i5-12500H/1...  47,990   \n",
              "16          16  Dell 15 Laptop, Intel Core i3-1115G4 Processor...  49,990   \n",
              "17          17  Dell 14, Intel 12th Gen i5-1235U Laptop/8GB/51...  67,450   \n",
              "18          18  Dell 14 Laptop, Intel Core i5-1135G7 Processor...  75,990   \n",
              "\n",
              "    Reviews  \n",
              "0       619  \n",
              "1        76  \n",
              "2       241  \n",
              "3       241  \n",
              "4       637  \n",
              "5         4  \n",
              "6       619  \n",
              "7       619  \n",
              "8         2  \n",
              "9       508  \n",
              "10      115  \n",
              "11      436  \n",
              "12      619  \n",
              "13       76  \n",
              "14       14  \n",
              "15      519  \n",
              "16      637  \n",
              "17      140  \n",
              "18        3  "
            ]
          },
          "execution_count": 16,
          "metadata": {},
          "output_type": "execute_result"
        }
      ],
      "source": [
        "import pandas as pd\n",
        "df2=pd.read_csv(\"webscrapping_selenium.csv\")\n",
        "df2"
      ]
    }
  ],
  "metadata": {
    "colab": {
      "provenance": []
    },
    "kernelspec": {
      "display_name": "Python 3",
      "name": "python3"
    },
    "language_info": {
      "codemirror_mode": {
        "name": "ipython",
        "version": 3
      },
      "file_extension": ".py",
      "mimetype": "text/x-python",
      "name": "python",
      "nbconvert_exporter": "python",
      "pygments_lexer": "ipython3",
      "version": "3.11.3"
    }
  },
  "nbformat": 4,
  "nbformat_minor": 0
}
