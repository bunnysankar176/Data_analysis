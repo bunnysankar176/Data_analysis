{
  "nbformat": 4,
  "nbformat_minor": 0,
  "metadata": {
    "colab": {
      "provenance": []
    },
    "kernelspec": {
      "name": "python3",
      "display_name": "Python 3"
    },
    "language_info": {
      "name": "python"
    }
  },
  "cells": [
    {
      "cell_type": "code",
      "execution_count": null,
      "metadata": {
        "id": "wnYF9neRi6Mf"
      },
      "outputs": [],
      "source": [
        "#Brain_tumor_analysis\n",
        "import tensorflow as tf\n",
        "from tensorflow import keras\n",
        "from tensorflow.keras import layers\n",
        "from tensorflow.keras.preprocessing.image import ImageDataGenerator\n",
        "# Define image size and batch size\n",
        "IMG_SIZE = 224\n",
        "BATCH_SIZE = 32"
      ]
    },
    {
      "cell_type": "code",
      "source": [
        "# Define data generators for train, validation and test sets\n",
        "train_datagen = ImageDataGenerator(\n",
        "    rescale=1./255,\n",
        "    validation_split=0.2\n",
        ")\n",
        "\n",
        "train_generator = train_datagen.flow_from_directory(\n",
        "    '/content/drive/MyDrive/Brain_Tumor_Detection/train',\n",
        "    target_size=(IMG_SIZE, IMG_SIZE),\n",
        "    batch_size=BATCH_SIZE,\n",
        "    class_mode='binary',\n",
        "    subset='training'\n",
        ")\n",
        "\n",
        "val_generator = train_datagen.flow_from_directory(\n",
        "    '/content/drive/MyDrive/Brain_Tumor_Detection/train',\n",
        "    target_size=(IMG_SIZE, IMG_SIZE),\n",
        "    batch_size=BATCH_SIZE,\n",
        "    class_mode='binary',\n",
        "    subset='validation'\n",
        ")\n",
        "\n",
        "test_datagen = ImageDataGenerator(rescale=1./255)\n",
        "\n",
        "test_generator = test_datagen.flow_from_directory(\n",
        "    '/content/drive/MyDrive/Brain_Tumor_Detection/pred',\n",
        "    target_size=(IMG_SIZE, IMG_SIZE),\n",
        "    batch_size=BATCH_SIZE,\n",
        "    class_mode='binary'\n",
        ")"
      ],
      "metadata": {
        "colab": {
          "base_uri": "https://localhost:8080/"
        },
        "id": "SFPHclUHrG4a",
        "outputId": "1a04f0e9-d579-4cc6-d262-8ed7c97bc1da"
      },
      "execution_count": null,
      "outputs": [
        {
          "output_type": "stream",
          "name": "stdout",
          "text": [
            "Found 2435 images belonging to 2 classes.\n",
            "Found 608 images belonging to 2 classes.\n",
            "Found 0 images belonging to 0 classes.\n"
          ]
        }
      ]
    },
    {
      "cell_type": "code",
      "source": [
        "from google.colab import drive\n",
        "drive.mount('/content/drive')"
      ],
      "metadata": {
        "colab": {
          "base_uri": "https://localhost:8080/"
        },
        "id": "Tch2SJbbGeOO",
        "outputId": "66789ea7-4b56-49da-a61b-426b63f357f1"
      },
      "execution_count": null,
      "outputs": [
        {
          "output_type": "stream",
          "name": "stdout",
          "text": [
            "Mounted at /content/drive\n"
          ]
        }
      ]
    },
    {
      "cell_type": "code",
      "source": [
        "# Define the model\n",
        "model = keras.Sequential([\n",
        "    layers.Conv2D(32, (3, 3), activation='relu', input_shape=(IMG_SIZE, IMG_SIZE, 3)),\n",
        "    layers.MaxPooling2D((2, 2)),\n",
        "    layers.Conv2D(64, (3, 3), activation='relu'),\n",
        "    layers.MaxPooling2D((2, 2)),\n",
        "    layers.Conv2D(128, (3, 3), activation='relu'),\n",
        "    layers.MaxPooling2D((2, 2)),\n",
        "    layers.Flatten(),\n",
        "    layers.Dense(128, activation='relu'),\n",
        "    layers.Dense(1, activation='sigmoid')\n",
        "])"
      ],
      "metadata": {
        "id": "nxIX4PuwsOGK"
      },
      "execution_count": null,
      "outputs": []
    },
    {
      "cell_type": "code",
      "source": [
        "# Compile the model\n",
        "model.compile(optimizer='adam', loss='binary_crossentropy', metrics=['accuracy'])\n"
      ],
      "metadata": {
        "id": "lb2fhyDBsU4O"
      },
      "execution_count": null,
      "outputs": []
    },
    {
      "cell_type": "code",
      "source": [
        "history = model.fit(train_generator,validation_data=val_generator,epochs=5)"
      ],
      "metadata": {
        "colab": {
          "base_uri": "https://localhost:8080/"
        },
        "id": "OSvb6DOXsYz0",
        "outputId": "1c2c5caf-de26-4630-ce14-493a4129e4ee"
      },
      "execution_count": null,
      "outputs": [
        {
          "output_type": "stream",
          "name": "stdout",
          "text": [
            "Epoch 1/5\n",
            "77/77 [==============================] - 365s 5s/step - loss: 0.4514 - accuracy: 0.8181 - val_loss: 0.2264 - val_accuracy: 0.9030\n",
            "Epoch 2/5\n",
            "77/77 [==============================] - 295s 4s/step - loss: 0.2073 - accuracy: 0.9191 - val_loss: 0.1571 - val_accuracy: 0.9474\n",
            "Epoch 3/5\n",
            "77/77 [==============================] - 317s 4s/step - loss: 0.0962 - accuracy: 0.9684 - val_loss: 0.0746 - val_accuracy: 0.9737\n",
            "Epoch 4/5\n",
            "77/77 [==============================] - 292s 4s/step - loss: 0.0434 - accuracy: 0.9869 - val_loss: 0.0129 - val_accuracy: 1.0000\n",
            "Epoch 5/5\n",
            "77/77 [==============================] - 312s 4s/step - loss: 0.0317 - accuracy: 0.9893 - val_loss: 0.0314 - val_accuracy: 0.9901\n"
          ]
        }
      ]
    },
    {
      "cell_type": "code",
      "source": [
        "model.save(\"Model.h5\",\"label.txt\")\n"
      ],
      "metadata": {
        "id": "In66XzdVsiA2"
      },
      "execution_count": null,
      "outputs": []
    },
    {
      "cell_type": "code",
      "source": [
        "#test your image\n",
        "from tensorflow.keras.models import load_model  # TensorFlow is required for Keras to work\n",
        "from tensorflow.keras.preprocessing import image\n",
        "import numpy as np\n",
        "model = load_model('/content/Model.h5')"
      ],
      "metadata": {
        "id": "sRM2hfJIyxoD"
      },
      "execution_count": null,
      "outputs": []
    },
    {
      "cell_type": "code",
      "source": [
        "# load and preprocess the test image\n",
        "test_image_path ='/content/drive/MyDrive/Brain_Tumor_Detection/pred/pred10.jpg'\n",
        "img = image.load_img(test_image_path, target_size =(224,224))\n",
        "img_array = image.img_to_array(img)\n",
        "img_array = np.expand_dims(img_array,axis=0)\n",
        "img_array /= 255."
      ],
      "metadata": {
        "id": "hUREYjlZeiSg"
      },
      "execution_count": null,
      "outputs": []
    },
    {
      "cell_type": "code",
      "source": [
        "#Make predictions\n",
        "prediction = model.predict(img_array)\n",
        "#print the prediction\n",
        "if prediction < 0.5:\n",
        "     print(\"Prediction : No tumor (Probability:\",prediction[0][0],\")\")\n",
        "else:\n",
        "     print(\"Prediction : Tumor present (Probability:\",prediction[0][0],\")\")\n",
        "\n",
        "\n"
      ],
      "metadata": {
        "colab": {
          "base_uri": "https://localhost:8080/"
        },
        "id": "fRc1pk7th1sI",
        "outputId": "deaed854-d186-4009-caf2-d9af9a6ff21d"
      },
      "execution_count": null,
      "outputs": [
        {
          "output_type": "stream",
          "name": "stdout",
          "text": [
            "1/1 [==============================] - 0s 82ms/step\n",
            "Prediction : Tumor present (Probability: 0.98722047 )\n"
          ]
        }
      ]
    }
  ]
}